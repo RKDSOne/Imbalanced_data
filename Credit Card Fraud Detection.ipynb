{
 "cells": [
  {
   "cell_type": "markdown",
   "metadata": {},
   "source": [
    "# Credit Card Fraud Detection\n",
    "\n",
    "Author: Shannon Snively\n",
    "\n",
    "This notebook will walk through techniques of working with unbalanced data, and the different classification models that we can use to detect if a transaction was fraud or not. This data was post of the kaggle website with the pre-processing step of the data already complete. So the objective is really to explore the features we have, and try to determine if we can gain some meaning from the features to be able to predict fraudulant charges. We are coming into a world where the ability to detect fraud and as well as any other security breach, especially prior to them happening is crucial. This is a good dataset to get a general idea of where to start, and techniques to carry forward throughout your designated career.\n",
    "\n",
    "# Data Dictionary\n",
    "\n",
    "The dataset contains transactions made by credit cards in the month of September 2013 by european cardholders. All of the observations occur in a two day span, where we there were 492 frauds out of 284,807 transactions. The dataset was collected and analysed by the Machine Learning Group of ULB (Université Libre de Bruxelles) on big data mining and fraud detection. The data only contains numerical variables which are the result of a PCA transformation. The PCA transformation was for security and confidentiality reasons.\n",
    "\n",
    "* Features V1, V2, ... V28 are the principal components obtained with PCA\n",
    "* 'Time' contains the seconds elapsed between each transaction and the first transaction in the dataset\n",
    "* 'Amount' is the transaction Amount, this feature can be used for example-dependant cost-senstive learning. \n",
    "* 'Class' is the response variable and it takes value **1 in case of fraud and 0 otherwise.**\n",
    "\n",
    "Given the class imbalance ratio, the recommended scoring measure for accuracy is the Area Under the Precision-Recall Curve (AUPRC). Confusion matrix accuracy is not meaningful for unbalanced classification.\n",
    "\n",
    "**Unbalanced Data:** When you encounter such problems, you’re bound to have difficulties solving them with standard algorithms. Regular algorithms are often biased towards the majority class because of their loss functions attempt to optimize error rate, without taking the data distribution into consideration. In the worst case, minority examples are treated as outliers of the majority class and ignored. So let us begin our journey into the world of fraud.\n",
    "\n",
    "**Contents:**\n",
    "* [Data Exploration](#0)\n",
    "    * [Response Feature](#0.1)\n",
    "    * [Other Features](#0.2)\n",
    "* [Imbalanced Data](#1)\n",
    "    * [Logistic Regression with Imbalanced Data](#1.1)\n",
    "        * [Undersampling Techniques](#1.1.1)\n",
    "        * [Oversampling Techniques](#1.1.2)\n",
    "* [Random Forest Classifier](#2)\n",
    "* [Support Vector Classifier](#3)\n",
    "* [Extreme Gradient Boosting Classifier](#4)\n"
   ]
  },
  {
   "cell_type": "markdown",
   "metadata": {},
   "source": [
    "<a id='0'></a>\n",
    "# Data Exploration\n",
    "In this first section of the notebook I will go through and explore some of the features. I will look at their structure in the dataset, look to validate the pre-processing steps, and visualize the data to get a better understanding.\n",
    "\n",
    "The dataset can be found here and downloaded for interactive use with this notebook:\n",
    "https://www.kaggle.com/dalpozz/creditcardfraud"
   ]
  },
  {
   "cell_type": "code",
   "execution_count": 1,
   "metadata": {
    "collapsed": true
   },
   "outputs": [],
   "source": [
    "import pandas as pd\n",
    "import numpy as np\n",
    "import matplotlib.pyplot as plt\n",
    "import seaborn as sns\n",
    "from collections import Counter\n",
    "import warnings\n",
    "warnings.filterwarnings('ignore')\n",
    "\n",
    "%matplotlib inline"
   ]
  },
  {
   "cell_type": "code",
   "execution_count": 2,
   "metadata": {
    "collapsed": false
   },
   "outputs": [],
   "source": [
    "# pandas function to read in a csv file\n",
    "df = pd.read_csv('creditcard.csv')"
   ]
  },
  {
   "cell_type": "code",
   "execution_count": 3,
   "metadata": {
    "collapsed": false
   },
   "outputs": [
    {
     "name": "stdout",
     "output_type": "stream",
     "text": [
      "(284807, 31)\n"
     ]
    },
    {
     "data": {
      "text/html": [
       "<div>\n",
       "<table border=\"1\" class=\"dataframe\">\n",
       "  <thead>\n",
       "    <tr style=\"text-align: right;\">\n",
       "      <th></th>\n",
       "      <th>Time</th>\n",
       "      <th>V1</th>\n",
       "      <th>V2</th>\n",
       "      <th>V3</th>\n",
       "      <th>V4</th>\n",
       "      <th>V5</th>\n",
       "      <th>V6</th>\n",
       "      <th>V7</th>\n",
       "      <th>V8</th>\n",
       "      <th>V9</th>\n",
       "      <th>...</th>\n",
       "      <th>V21</th>\n",
       "      <th>V22</th>\n",
       "      <th>V23</th>\n",
       "      <th>V24</th>\n",
       "      <th>V25</th>\n",
       "      <th>V26</th>\n",
       "      <th>V27</th>\n",
       "      <th>V28</th>\n",
       "      <th>Amount</th>\n",
       "      <th>Class</th>\n",
       "    </tr>\n",
       "  </thead>\n",
       "  <tbody>\n",
       "    <tr>\n",
       "      <th>0</th>\n",
       "      <td>0.0</td>\n",
       "      <td>-1.359807</td>\n",
       "      <td>-0.072781</td>\n",
       "      <td>2.536347</td>\n",
       "      <td>1.378155</td>\n",
       "      <td>-0.338321</td>\n",
       "      <td>0.462388</td>\n",
       "      <td>0.239599</td>\n",
       "      <td>0.098698</td>\n",
       "      <td>0.363787</td>\n",
       "      <td>...</td>\n",
       "      <td>-0.018307</td>\n",
       "      <td>0.277838</td>\n",
       "      <td>-0.110474</td>\n",
       "      <td>0.066928</td>\n",
       "      <td>0.128539</td>\n",
       "      <td>-0.189115</td>\n",
       "      <td>0.133558</td>\n",
       "      <td>-0.021053</td>\n",
       "      <td>149.62</td>\n",
       "      <td>0</td>\n",
       "    </tr>\n",
       "    <tr>\n",
       "      <th>1</th>\n",
       "      <td>0.0</td>\n",
       "      <td>1.191857</td>\n",
       "      <td>0.266151</td>\n",
       "      <td>0.166480</td>\n",
       "      <td>0.448154</td>\n",
       "      <td>0.060018</td>\n",
       "      <td>-0.082361</td>\n",
       "      <td>-0.078803</td>\n",
       "      <td>0.085102</td>\n",
       "      <td>-0.255425</td>\n",
       "      <td>...</td>\n",
       "      <td>-0.225775</td>\n",
       "      <td>-0.638672</td>\n",
       "      <td>0.101288</td>\n",
       "      <td>-0.339846</td>\n",
       "      <td>0.167170</td>\n",
       "      <td>0.125895</td>\n",
       "      <td>-0.008983</td>\n",
       "      <td>0.014724</td>\n",
       "      <td>2.69</td>\n",
       "      <td>0</td>\n",
       "    </tr>\n",
       "    <tr>\n",
       "      <th>2</th>\n",
       "      <td>1.0</td>\n",
       "      <td>-1.358354</td>\n",
       "      <td>-1.340163</td>\n",
       "      <td>1.773209</td>\n",
       "      <td>0.379780</td>\n",
       "      <td>-0.503198</td>\n",
       "      <td>1.800499</td>\n",
       "      <td>0.791461</td>\n",
       "      <td>0.247676</td>\n",
       "      <td>-1.514654</td>\n",
       "      <td>...</td>\n",
       "      <td>0.247998</td>\n",
       "      <td>0.771679</td>\n",
       "      <td>0.909412</td>\n",
       "      <td>-0.689281</td>\n",
       "      <td>-0.327642</td>\n",
       "      <td>-0.139097</td>\n",
       "      <td>-0.055353</td>\n",
       "      <td>-0.059752</td>\n",
       "      <td>378.66</td>\n",
       "      <td>0</td>\n",
       "    </tr>\n",
       "    <tr>\n",
       "      <th>3</th>\n",
       "      <td>1.0</td>\n",
       "      <td>-0.966272</td>\n",
       "      <td>-0.185226</td>\n",
       "      <td>1.792993</td>\n",
       "      <td>-0.863291</td>\n",
       "      <td>-0.010309</td>\n",
       "      <td>1.247203</td>\n",
       "      <td>0.237609</td>\n",
       "      <td>0.377436</td>\n",
       "      <td>-1.387024</td>\n",
       "      <td>...</td>\n",
       "      <td>-0.108300</td>\n",
       "      <td>0.005274</td>\n",
       "      <td>-0.190321</td>\n",
       "      <td>-1.175575</td>\n",
       "      <td>0.647376</td>\n",
       "      <td>-0.221929</td>\n",
       "      <td>0.062723</td>\n",
       "      <td>0.061458</td>\n",
       "      <td>123.50</td>\n",
       "      <td>0</td>\n",
       "    </tr>\n",
       "    <tr>\n",
       "      <th>4</th>\n",
       "      <td>2.0</td>\n",
       "      <td>-1.158233</td>\n",
       "      <td>0.877737</td>\n",
       "      <td>1.548718</td>\n",
       "      <td>0.403034</td>\n",
       "      <td>-0.407193</td>\n",
       "      <td>0.095921</td>\n",
       "      <td>0.592941</td>\n",
       "      <td>-0.270533</td>\n",
       "      <td>0.817739</td>\n",
       "      <td>...</td>\n",
       "      <td>-0.009431</td>\n",
       "      <td>0.798278</td>\n",
       "      <td>-0.137458</td>\n",
       "      <td>0.141267</td>\n",
       "      <td>-0.206010</td>\n",
       "      <td>0.502292</td>\n",
       "      <td>0.219422</td>\n",
       "      <td>0.215153</td>\n",
       "      <td>69.99</td>\n",
       "      <td>0</td>\n",
       "    </tr>\n",
       "  </tbody>\n",
       "</table>\n",
       "<p>5 rows × 31 columns</p>\n",
       "</div>"
      ],
      "text/plain": [
       "   Time        V1        V2        V3        V4        V5        V6        V7  \\\n",
       "0   0.0 -1.359807 -0.072781  2.536347  1.378155 -0.338321  0.462388  0.239599   \n",
       "1   0.0  1.191857  0.266151  0.166480  0.448154  0.060018 -0.082361 -0.078803   \n",
       "2   1.0 -1.358354 -1.340163  1.773209  0.379780 -0.503198  1.800499  0.791461   \n",
       "3   1.0 -0.966272 -0.185226  1.792993 -0.863291 -0.010309  1.247203  0.237609   \n",
       "4   2.0 -1.158233  0.877737  1.548718  0.403034 -0.407193  0.095921  0.592941   \n",
       "\n",
       "         V8        V9  ...         V21       V22       V23       V24  \\\n",
       "0  0.098698  0.363787  ...   -0.018307  0.277838 -0.110474  0.066928   \n",
       "1  0.085102 -0.255425  ...   -0.225775 -0.638672  0.101288 -0.339846   \n",
       "2  0.247676 -1.514654  ...    0.247998  0.771679  0.909412 -0.689281   \n",
       "3  0.377436 -1.387024  ...   -0.108300  0.005274 -0.190321 -1.175575   \n",
       "4 -0.270533  0.817739  ...   -0.009431  0.798278 -0.137458  0.141267   \n",
       "\n",
       "        V25       V26       V27       V28  Amount  Class  \n",
       "0  0.128539 -0.189115  0.133558 -0.021053  149.62      0  \n",
       "1  0.167170  0.125895 -0.008983  0.014724    2.69      0  \n",
       "2 -0.327642 -0.139097 -0.055353 -0.059752  378.66      0  \n",
       "3  0.647376 -0.221929  0.062723  0.061458  123.50      0  \n",
       "4 -0.206010  0.502292  0.219422  0.215153   69.99      0  \n",
       "\n",
       "[5 rows x 31 columns]"
      ]
     },
     "execution_count": 3,
     "metadata": {},
     "output_type": "execute_result"
    }
   ],
   "source": [
    "print(df.shape)\n",
    "df.head()"
   ]
  },
  {
   "cell_type": "code",
   "execution_count": 4,
   "metadata": {
    "collapsed": false,
    "scrolled": true
   },
   "outputs": [
    {
     "name": "stdout",
     "output_type": "stream",
     "text": [
      "<class 'pandas.core.frame.DataFrame'>\n",
      "RangeIndex: 284807 entries, 0 to 284806\n",
      "Data columns (total 31 columns):\n",
      "Time      284807 non-null float64\n",
      "V1        284807 non-null float64\n",
      "V2        284807 non-null float64\n",
      "V3        284807 non-null float64\n",
      "V4        284807 non-null float64\n",
      "V5        284807 non-null float64\n",
      "V6        284807 non-null float64\n",
      "V7        284807 non-null float64\n",
      "V8        284807 non-null float64\n",
      "V9        284807 non-null float64\n",
      "V10       284807 non-null float64\n",
      "V11       284807 non-null float64\n",
      "V12       284807 non-null float64\n",
      "V13       284807 non-null float64\n",
      "V14       284807 non-null float64\n",
      "V15       284807 non-null float64\n",
      "V16       284807 non-null float64\n",
      "V17       284807 non-null float64\n",
      "V18       284807 non-null float64\n",
      "V19       284807 non-null float64\n",
      "V20       284807 non-null float64\n",
      "V21       284807 non-null float64\n",
      "V22       284807 non-null float64\n",
      "V23       284807 non-null float64\n",
      "V24       284807 non-null float64\n",
      "V25       284807 non-null float64\n",
      "V26       284807 non-null float64\n",
      "V27       284807 non-null float64\n",
      "V28       284807 non-null float64\n",
      "Amount    284807 non-null float64\n",
      "Class     284807 non-null int64\n",
      "dtypes: float64(30), int64(1)\n",
      "memory usage: 67.4 MB\n"
     ]
    }
   ],
   "source": [
    "df.info()"
   ]
  },
  {
   "cell_type": "markdown",
   "metadata": {},
   "source": [
    "<a id='0.1'></a>\n",
    "## Response Feature\n",
    "After getting an understanding for the structure of the data we can dive into different inquiries about certain features of the data. Like mentioned in the introduction the class has a very imbalanced data set where majority of the observations are non-fraudulant. There are only 492 fraud observations as it is noted below. "
   ]
  },
  {
   "cell_type": "code",
   "execution_count": 5,
   "metadata": {
    "collapsed": false
   },
   "outputs": [
    {
     "data": {
      "text/plain": [
       "Counter({0: 284315, 1: 492})"
      ]
     },
     "execution_count": 5,
     "metadata": {},
     "output_type": "execute_result"
    }
   ],
   "source": [
    "Counter(df['Class'])"
   ]
  },
  {
   "cell_type": "code",
   "execution_count": 6,
   "metadata": {
    "collapsed": false
   },
   "outputs": [
    {
     "data": {
      "image/png": "[encoded data removed]",
      "text/plain": [
       "<matplotlib.figure.Figure at 0x1ad89627160>"
      ]
     },
     "metadata": {},
     "output_type": "display_data"
    }
   ],
   "source": [
    "sns.countplot(df['Class']);\n",
    "plt.title('Class Distribution');"
   ]
  },
  {
   "cell_type": "markdown",
   "metadata": {},
   "source": [
    "Below is an interactive map that incorporates a box plot for any selected feature with the x-axis represented by Class. This is very useful because you can see how each of the features are represented by the class. You might have a few features that are majority for one class or another."
   ]
  },
  {
   "cell_type": "code",
   "execution_count": 7,
   "metadata": {
    "collapsed": false
   },
   "outputs": [
    {
     "data": {
      "image/png": "[encoded data removed]",
      "text/plain": [
       "<matplotlib.figure.Figure at 0x1ad89671400>"
      ]
     },
     "metadata": {},
     "output_type": "display_data"
    }
   ],
   "source": [
    "# this is an interactive map that allows you to look at the boxplot between the response and other variables. \n",
    "from ipywidgets import interact\n",
    "%matplotlib inline\n",
    "\n",
    "column_name = list(df.columns)\n",
    "\n",
    "@interact\n",
    "def box_plot(Feature= column_name):\n",
    "    sns.boxplot(df['Class'], df[Feature])"
   ]
  },
  {
   "cell_type": "markdown",
   "metadata": {},
   "source": [
    "We also know from the introduction that part of the pre-processing step was already completed, which we can see from zero missing values."
   ]
  },
  {
   "cell_type": "code",
   "execution_count": 8,
   "metadata": {
    "collapsed": false,
    "scrolled": true
   },
   "outputs": [
    {
     "data": {
      "text/plain": [
       "Time      0\n",
       "V1        0\n",
       "V2        0\n",
       "V3        0\n",
       "V4        0\n",
       "V5        0\n",
       "V6        0\n",
       "V7        0\n",
       "V8        0\n",
       "V9        0\n",
       "V10       0\n",
       "V11       0\n",
       "V12       0\n",
       "V13       0\n",
       "V14       0\n",
       "V15       0\n",
       "V16       0\n",
       "V17       0\n",
       "V18       0\n",
       "V19       0\n",
       "V20       0\n",
       "V21       0\n",
       "V22       0\n",
       "V23       0\n",
       "V24       0\n",
       "V25       0\n",
       "V26       0\n",
       "V27       0\n",
       "V28       0\n",
       "Amount    0\n",
       "Class     0\n",
       "dtype: int64"
      ]
     },
     "execution_count": 8,
     "metadata": {},
     "output_type": "execute_result"
    }
   ],
   "source": [
    "df.isnull().sum() # There is no missing or null values in this dataset"
   ]
  },
  {
   "cell_type": "markdown",
   "metadata": {},
   "source": [
    "Okay, so what does this dataset consist of? The describe function allows us to get a few of the descriptive statistics of each of the variables, which may be useful for the pca components since we do not necessarily know what they are. "
   ]
  },
  {
   "cell_type": "code",
   "execution_count": 9,
   "metadata": {
    "collapsed": false,
    "scrolled": true
   },
   "outputs": [
    {
     "data": {
      "text/html": [
       "<div>\n",
       "<table border=\"1\" class=\"dataframe\">\n",
       "  <thead>\n",
       "    <tr style=\"text-align: right;\">\n",
       "      <th></th>\n",
       "      <th>count</th>\n",
       "      <th>mean</th>\n",
       "      <th>std</th>\n",
       "      <th>min</th>\n",
       "      <th>25%</th>\n",
       "      <th>50%</th>\n",
       "      <th>75%</th>\n",
       "      <th>max</th>\n",
       "    </tr>\n",
       "  </thead>\n",
       "  <tbody>\n",
       "    <tr>\n",
       "      <th>Time</th>\n",
       "      <td>284807.0</td>\n",
       "      <td>9.481386e+04</td>\n",
       "      <td>47488.145955</td>\n",
       "      <td>0.000000</td>\n",
       "      <td>54201.500000</td>\n",
       "      <td>84692.000000</td>\n",
       "      <td>139320.500000</td>\n",
       "      <td>172792.000000</td>\n",
       "    </tr>\n",
       "    <tr>\n",
       "      <th>V1</th>\n",
       "      <td>284807.0</td>\n",
       "      <td>3.919560e-15</td>\n",
       "      <td>1.958696</td>\n",
       "      <td>-56.407510</td>\n",
       "      <td>-0.920373</td>\n",
       "      <td>0.018109</td>\n",
       "      <td>1.315642</td>\n",
       "      <td>2.454930</td>\n",
       "    </tr>\n",
       "    <tr>\n",
       "      <th>V2</th>\n",
       "      <td>284807.0</td>\n",
       "      <td>5.688174e-16</td>\n",
       "      <td>1.651309</td>\n",
       "      <td>-72.715728</td>\n",
       "      <td>-0.598550</td>\n",
       "      <td>0.065486</td>\n",
       "      <td>0.803724</td>\n",
       "      <td>22.057729</td>\n",
       "    </tr>\n",
       "    <tr>\n",
       "      <th>V3</th>\n",
       "      <td>284807.0</td>\n",
       "      <td>-8.769071e-15</td>\n",
       "      <td>1.516255</td>\n",
       "      <td>-48.325589</td>\n",
       "      <td>-0.890365</td>\n",
       "      <td>0.179846</td>\n",
       "      <td>1.027196</td>\n",
       "      <td>9.382558</td>\n",
       "    </tr>\n",
       "    <tr>\n",
       "      <th>V4</th>\n",
       "      <td>284807.0</td>\n",
       "      <td>2.782312e-15</td>\n",
       "      <td>1.415869</td>\n",
       "      <td>-5.683171</td>\n",
       "      <td>-0.848640</td>\n",
       "      <td>-0.019847</td>\n",
       "      <td>0.743341</td>\n",
       "      <td>16.875344</td>\n",
       "    </tr>\n",
       "    <tr>\n",
       "      <th>V5</th>\n",
       "      <td>284807.0</td>\n",
       "      <td>-1.552563e-15</td>\n",
       "      <td>1.380247</td>\n",
       "      <td>-113.743307</td>\n",
       "      <td>-0.691597</td>\n",
       "      <td>-0.054336</td>\n",
       "      <td>0.611926</td>\n",
       "      <td>34.801666</td>\n",
       "    </tr>\n",
       "    <tr>\n",
       "      <th>V6</th>\n",
       "      <td>284807.0</td>\n",
       "      <td>2.010663e-15</td>\n",
       "      <td>1.332271</td>\n",
       "      <td>-26.160506</td>\n",
       "      <td>-0.768296</td>\n",
       "      <td>-0.274187</td>\n",
       "      <td>0.398565</td>\n",
       "      <td>73.301626</td>\n",
       "    </tr>\n",
       "    <tr>\n",
       "      <th>V7</th>\n",
       "      <td>284807.0</td>\n",
       "      <td>-1.694249e-15</td>\n",
       "      <td>1.237094</td>\n",
       "      <td>-43.557242</td>\n",
       "      <td>-0.554076</td>\n",
       "      <td>0.040103</td>\n",
       "      <td>0.570436</td>\n",
       "      <td>120.589494</td>\n",
       "    </tr>\n",
       "    <tr>\n",
       "      <th>V8</th>\n",
       "      <td>284807.0</td>\n",
       "      <td>-1.927028e-16</td>\n",
       "      <td>1.194353</td>\n",
       "      <td>-73.216718</td>\n",
       "      <td>-0.208630</td>\n",
       "      <td>0.022358</td>\n",
       "      <td>0.327346</td>\n",
       "      <td>20.007208</td>\n",
       "    </tr>\n",
       "    <tr>\n",
       "      <th>V9</th>\n",
       "      <td>284807.0</td>\n",
       "      <td>-3.137024e-15</td>\n",
       "      <td>1.098632</td>\n",
       "      <td>-13.434066</td>\n",
       "      <td>-0.643098</td>\n",
       "      <td>-0.051429</td>\n",
       "      <td>0.597139</td>\n",
       "      <td>15.594995</td>\n",
       "    </tr>\n",
       "    <tr>\n",
       "      <th>V10</th>\n",
       "      <td>284807.0</td>\n",
       "      <td>1.768627e-15</td>\n",
       "      <td>1.088850</td>\n",
       "      <td>-24.588262</td>\n",
       "      <td>-0.535426</td>\n",
       "      <td>-0.092917</td>\n",
       "      <td>0.453923</td>\n",
       "      <td>23.745136</td>\n",
       "    </tr>\n",
       "    <tr>\n",
       "      <th>V11</th>\n",
       "      <td>284807.0</td>\n",
       "      <td>9.170318e-16</td>\n",
       "      <td>1.020713</td>\n",
       "      <td>-4.797473</td>\n",
       "      <td>-0.762494</td>\n",
       "      <td>-0.032757</td>\n",
       "      <td>0.739593</td>\n",
       "      <td>12.018913</td>\n",
       "    </tr>\n",
       "    <tr>\n",
       "      <th>V12</th>\n",
       "      <td>284807.0</td>\n",
       "      <td>-1.810658e-15</td>\n",
       "      <td>0.999201</td>\n",
       "      <td>-18.683715</td>\n",
       "      <td>-0.405571</td>\n",
       "      <td>0.140033</td>\n",
       "      <td>0.618238</td>\n",
       "      <td>7.848392</td>\n",
       "    </tr>\n",
       "    <tr>\n",
       "      <th>V13</th>\n",
       "      <td>284807.0</td>\n",
       "      <td>1.693438e-15</td>\n",
       "      <td>0.995274</td>\n",
       "      <td>-5.791881</td>\n",
       "      <td>-0.648539</td>\n",
       "      <td>-0.013568</td>\n",
       "      <td>0.662505</td>\n",
       "      <td>7.126883</td>\n",
       "    </tr>\n",
       "    <tr>\n",
       "      <th>V14</th>\n",
       "      <td>284807.0</td>\n",
       "      <td>1.479045e-15</td>\n",
       "      <td>0.958596</td>\n",
       "      <td>-19.214325</td>\n",
       "      <td>-0.425574</td>\n",
       "      <td>0.050601</td>\n",
       "      <td>0.493150</td>\n",
       "      <td>10.526766</td>\n",
       "    </tr>\n",
       "    <tr>\n",
       "      <th>V15</th>\n",
       "      <td>284807.0</td>\n",
       "      <td>3.482336e-15</td>\n",
       "      <td>0.915316</td>\n",
       "      <td>-4.498945</td>\n",
       "      <td>-0.582884</td>\n",
       "      <td>0.048072</td>\n",
       "      <td>0.648821</td>\n",
       "      <td>8.877742</td>\n",
       "    </tr>\n",
       "    <tr>\n",
       "      <th>V16</th>\n",
       "      <td>284807.0</td>\n",
       "      <td>1.392007e-15</td>\n",
       "      <td>0.876253</td>\n",
       "      <td>-14.129855</td>\n",
       "      <td>-0.468037</td>\n",
       "      <td>0.066413</td>\n",
       "      <td>0.523296</td>\n",
       "      <td>17.315112</td>\n",
       "    </tr>\n",
       "    <tr>\n",
       "      <th>V17</th>\n",
       "      <td>284807.0</td>\n",
       "      <td>-7.528491e-16</td>\n",
       "      <td>0.849337</td>\n",
       "      <td>-25.162799</td>\n",
       "      <td>-0.483748</td>\n",
       "      <td>-0.065676</td>\n",
       "      <td>0.399675</td>\n",
       "      <td>9.253526</td>\n",
       "    </tr>\n",
       "    <tr>\n",
       "      <th>V18</th>\n",
       "      <td>284807.0</td>\n",
       "      <td>4.328772e-16</td>\n",
       "      <td>0.838176</td>\n",
       "      <td>-9.498746</td>\n",
       "      <td>-0.498850</td>\n",
       "      <td>-0.003636</td>\n",
       "      <td>0.500807</td>\n",
       "      <td>5.041069</td>\n",
       "    </tr>\n",
       "    <tr>\n",
       "      <th>V19</th>\n",
       "      <td>284807.0</td>\n",
       "      <td>9.049732e-16</td>\n",
       "      <td>0.814041</td>\n",
       "      <td>-7.213527</td>\n",
       "      <td>-0.456299</td>\n",
       "      <td>0.003735</td>\n",
       "      <td>0.458949</td>\n",
       "      <td>5.591971</td>\n",
       "    </tr>\n",
       "    <tr>\n",
       "      <th>V20</th>\n",
       "      <td>284807.0</td>\n",
       "      <td>5.085503e-16</td>\n",
       "      <td>0.770925</td>\n",
       "      <td>-54.497720</td>\n",
       "      <td>-0.211721</td>\n",
       "      <td>-0.062481</td>\n",
       "      <td>0.133041</td>\n",
       "      <td>39.420904</td>\n",
       "    </tr>\n",
       "    <tr>\n",
       "      <th>V21</th>\n",
       "      <td>284807.0</td>\n",
       "      <td>1.537294e-16</td>\n",
       "      <td>0.734524</td>\n",
       "      <td>-34.830382</td>\n",
       "      <td>-0.228395</td>\n",
       "      <td>-0.029450</td>\n",
       "      <td>0.186377</td>\n",
       "      <td>27.202839</td>\n",
       "    </tr>\n",
       "    <tr>\n",
       "      <th>V22</th>\n",
       "      <td>284807.0</td>\n",
       "      <td>7.959909e-16</td>\n",
       "      <td>0.725702</td>\n",
       "      <td>-10.933144</td>\n",
       "      <td>-0.542350</td>\n",
       "      <td>0.006782</td>\n",
       "      <td>0.528554</td>\n",
       "      <td>10.503090</td>\n",
       "    </tr>\n",
       "    <tr>\n",
       "      <th>V23</th>\n",
       "      <td>284807.0</td>\n",
       "      <td>5.367590e-16</td>\n",
       "      <td>0.624460</td>\n",
       "      <td>-44.807735</td>\n",
       "      <td>-0.161846</td>\n",
       "      <td>-0.011193</td>\n",
       "      <td>0.147642</td>\n",
       "      <td>22.528412</td>\n",
       "    </tr>\n",
       "    <tr>\n",
       "      <th>V24</th>\n",
       "      <td>284807.0</td>\n",
       "      <td>4.458112e-15</td>\n",
       "      <td>0.605647</td>\n",
       "      <td>-2.836627</td>\n",
       "      <td>-0.354586</td>\n",
       "      <td>0.040976</td>\n",
       "      <td>0.439527</td>\n",
       "      <td>4.584549</td>\n",
       "    </tr>\n",
       "    <tr>\n",
       "      <th>V25</th>\n",
       "      <td>284807.0</td>\n",
       "      <td>1.453003e-15</td>\n",
       "      <td>0.521278</td>\n",
       "      <td>-10.295397</td>\n",
       "      <td>-0.317145</td>\n",
       "      <td>0.016594</td>\n",
       "      <td>0.350716</td>\n",
       "      <td>7.519589</td>\n",
       "    </tr>\n",
       "    <tr>\n",
       "      <th>V26</th>\n",
       "      <td>284807.0</td>\n",
       "      <td>1.699104e-15</td>\n",
       "      <td>0.482227</td>\n",
       "      <td>-2.604551</td>\n",
       "      <td>-0.326984</td>\n",
       "      <td>-0.052139</td>\n",
       "      <td>0.240952</td>\n",
       "      <td>3.517346</td>\n",
       "    </tr>\n",
       "    <tr>\n",
       "      <th>V27</th>\n",
       "      <td>284807.0</td>\n",
       "      <td>-3.660161e-16</td>\n",
       "      <td>0.403632</td>\n",
       "      <td>-22.565679</td>\n",
       "      <td>-0.070840</td>\n",
       "      <td>0.001342</td>\n",
       "      <td>0.091045</td>\n",
       "      <td>31.612198</td>\n",
       "    </tr>\n",
       "    <tr>\n",
       "      <th>V28</th>\n",
       "      <td>284807.0</td>\n",
       "      <td>-1.206049e-16</td>\n",
       "      <td>0.330083</td>\n",
       "      <td>-15.430084</td>\n",
       "      <td>-0.052960</td>\n",
       "      <td>0.011244</td>\n",
       "      <td>0.078280</td>\n",
       "      <td>33.847808</td>\n",
       "    </tr>\n",
       "    <tr>\n",
       "      <th>Amount</th>\n",
       "      <td>284807.0</td>\n",
       "      <td>8.834962e+01</td>\n",
       "      <td>250.120109</td>\n",
       "      <td>0.000000</td>\n",
       "      <td>5.600000</td>\n",
       "      <td>22.000000</td>\n",
       "      <td>77.165000</td>\n",
       "      <td>25691.160000</td>\n",
       "    </tr>\n",
       "    <tr>\n",
       "      <th>Class</th>\n",
       "      <td>284807.0</td>\n",
       "      <td>1.727486e-03</td>\n",
       "      <td>0.041527</td>\n",
       "      <td>0.000000</td>\n",
       "      <td>0.000000</td>\n",
       "      <td>0.000000</td>\n",
       "      <td>0.000000</td>\n",
       "      <td>1.000000</td>\n",
       "    </tr>\n",
       "  </tbody>\n",
       "</table>\n",
       "</div>"
      ],
      "text/plain": [
       "           count          mean           std         min           25%  \\\n",
       "Time    284807.0  9.481386e+04  47488.145955    0.000000  54201.500000   \n",
       "V1      284807.0  3.919560e-15      1.958696  -56.407510     -0.920373   \n",
       "V2      284807.0  5.688174e-16      1.651309  -72.715728     -0.598550   \n",
       "V3      284807.0 -8.769071e-15      1.516255  -48.325589     -0.890365   \n",
       "V4      284807.0  2.782312e-15      1.415869   -5.683171     -0.848640   \n",
       "V5      284807.0 -1.552563e-15      1.380247 -113.743307     -0.691597   \n",
       "V6      284807.0  2.010663e-15      1.332271  -26.160506     -0.768296   \n",
       "V7      284807.0 -1.694249e-15      1.237094  -43.557242     -0.554076   \n",
       "V8      284807.0 -1.927028e-16      1.194353  -73.216718     -0.208630   \n",
       "V9      284807.0 -3.137024e-15      1.098632  -13.434066     -0.643098   \n",
       "V10     284807.0  1.768627e-15      1.088850  -24.588262     -0.535426   \n",
       "V11     284807.0  9.170318e-16      1.020713   -4.797473     -0.762494   \n",
       "V12     284807.0 -1.810658e-15      0.999201  -18.683715     -0.405571   \n",
       "V13     284807.0  1.693438e-15      0.995274   -5.791881     -0.648539   \n",
       "V14     284807.0  1.479045e-15      0.958596  -19.214325     -0.425574   \n",
       "V15     284807.0  3.482336e-15      0.915316   -4.498945     -0.582884   \n",
       "V16     284807.0  1.392007e-15      0.876253  -14.129855     -0.468037   \n",
       "V17     284807.0 -7.528491e-16      0.849337  -25.162799     -0.483748   \n",
       "V18     284807.0  4.328772e-16      0.838176   -9.498746     -0.498850   \n",
       "V19     284807.0  9.049732e-16      0.814041   -7.213527     -0.456299   \n",
       "V20     284807.0  5.085503e-16      0.770925  -54.497720     -0.211721   \n",
       "V21     284807.0  1.537294e-16      0.734524  -34.830382     -0.228395   \n",
       "V22     284807.0  7.959909e-16      0.725702  -10.933144     -0.542350   \n",
       "V23     284807.0  5.367590e-16      0.624460  -44.807735     -0.161846   \n",
       "V24     284807.0  4.458112e-15      0.605647   -2.836627     -0.354586   \n",
       "V25     284807.0  1.453003e-15      0.521278  -10.295397     -0.317145   \n",
       "V26     284807.0  1.699104e-15      0.482227   -2.604551     -0.326984   \n",
       "V27     284807.0 -3.660161e-16      0.403632  -22.565679     -0.070840   \n",
       "V28     284807.0 -1.206049e-16      0.330083  -15.430084     -0.052960   \n",
       "Amount  284807.0  8.834962e+01    250.120109    0.000000      5.600000   \n",
       "Class   284807.0  1.727486e-03      0.041527    0.000000      0.000000   \n",
       "\n",
       "                 50%            75%            max  \n",
       "Time    84692.000000  139320.500000  172792.000000  \n",
       "V1          0.018109       1.315642       2.454930  \n",
       "V2          0.065486       0.803724      22.057729  \n",
       "V3          0.179846       1.027196       9.382558  \n",
       "V4         -0.019847       0.743341      16.875344  \n",
       "V5         -0.054336       0.611926      34.801666  \n",
       "V6         -0.274187       0.398565      73.301626  \n",
       "V7          0.040103       0.570436     120.589494  \n",
       "V8          0.022358       0.327346      20.007208  \n",
       "V9         -0.051429       0.597139      15.594995  \n",
       "V10        -0.092917       0.453923      23.745136  \n",
       "V11        -0.032757       0.739593      12.018913  \n",
       "V12         0.140033       0.618238       7.848392  \n",
       "V13        -0.013568       0.662505       7.126883  \n",
       "V14         0.050601       0.493150      10.526766  \n",
       "V15         0.048072       0.648821       8.877742  \n",
       "V16         0.066413       0.523296      17.315112  \n",
       "V17        -0.065676       0.399675       9.253526  \n",
       "V18        -0.003636       0.500807       5.041069  \n",
       "V19         0.003735       0.458949       5.591971  \n",
       "V20        -0.062481       0.133041      39.420904  \n",
       "V21        -0.029450       0.186377      27.202839  \n",
       "V22         0.006782       0.528554      10.503090  \n",
       "V23        -0.011193       0.147642      22.528412  \n",
       "V24         0.040976       0.439527       4.584549  \n",
       "V25         0.016594       0.350716       7.519589  \n",
       "V26        -0.052139       0.240952       3.517346  \n",
       "V27         0.001342       0.091045      31.612198  \n",
       "V28         0.011244       0.078280      33.847808  \n",
       "Amount     22.000000      77.165000   25691.160000  \n",
       "Class       0.000000       0.000000       1.000000  "
      ]
     },
     "execution_count": 9,
     "metadata": {},
     "output_type": "execute_result"
    }
   ],
   "source": [
    "# select any index value to get the summary statistics\n",
    "df.describe().transpose()"
   ]
  },
  {
   "cell_type": "markdown",
   "metadata": {},
   "source": [
    "<a id='0.2'></a>\n",
    "## Other Features in dataset\n",
    "So we have the PCA components, but we also have some known components which would be interesting to explore further. I wanted to start with the time component, and see if there is any peak of fraud over time or the average amounts of money spent in each class. \n",
    "\n",
    "Lets remember that these transactions are covered in a two day span, and Time represents the seconds that have elasped prior to the next transaction. For the Time component that means 60 seconds = 1 minute, 60 minutes = 1 hour, and 24 hours = 1 day so we should have between 0 to 86,400 seconds for a one day span. It might be interesting to look at just the fradulent data, and compare the two different days.\n",
    "\n",
    "After taking a look at the amount of unique time values we see there are only 124,592 which means that about 50,000 seconds of elapsed time between transactions."
   ]
  },
  {
   "cell_type": "code",
   "execution_count": 10,
   "metadata": {
    "collapsed": false
   },
   "outputs": [
    {
     "data": {
      "text/plain": [
       "(284807, 31)"
      ]
     },
     "execution_count": 10,
     "metadata": {},
     "output_type": "execute_result"
    }
   ],
   "source": [
    "df.shape"
   ]
  },
  {
   "cell_type": "code",
   "execution_count": 11,
   "metadata": {
    "collapsed": false
   },
   "outputs": [
    {
     "data": {
      "text/plain": [
       "124592"
      ]
     },
     "execution_count": 11,
     "metadata": {},
     "output_type": "execute_result"
    }
   ],
   "source": [
    "len(df.Time.unique())"
   ]
  },
  {
   "cell_type": "code",
   "execution_count": 12,
   "metadata": {
    "collapsed": false
   },
   "outputs": [
    {
     "data": {
      "image/png": "[encoded data removed]",
      "text/plain": [
       "<matplotlib.figure.Figure at 0x1ad8a18e320>"
      ]
     },
     "metadata": {},
     "output_type": "display_data"
    }
   ],
   "source": [
    "fraud_amount = df[df.Class ==1]\n",
    "time = fraud_amount.groupby('Time')['Amount'].agg('median')\n",
    "\n",
    "plt.figure(figsize=(12, 3));\n",
    "plt.plot(time.index, time.values);\n",
    "plt.xlabel('Time of transactions');\n",
    "plt.ylabel('Median Amount of transaction');"
   ]
  },
  {
   "cell_type": "code",
   "execution_count": 13,
   "metadata": {
    "collapsed": false
   },
   "outputs": [
    {
     "data": {
      "image/png": "[encoded data removed]",
      "text/plain": [
       "<matplotlib.figure.Figure at 0x1ad8a228e48>"
      ]
     },
     "metadata": {},
     "output_type": "display_data"
    }
   ],
   "source": [
    "non_fraud_amount = df[df.Class ==0]\n",
    "time = non_fraud_amount.groupby('Time')['Amount'].agg('median')\n",
    "\n",
    "plt.figure(figsize=(12, 3));\n",
    "plt.plot(time.index, time.values);\n",
    "plt.xlabel('Time of transactions');\n",
    "plt.ylabel('Median Amount of transaction');"
   ]
  },
  {
   "cell_type": "markdown",
   "metadata": {},
   "source": [
    "Some of the information is missing such as what time this study actually began. That would be useful because then we could begin to look for patterns over time, and maybe understand the relationship better. The spike of the transaction amount is the only one that is more than 10,000. It might be worth taking a further look at this and determining if it is an outlier or not. We can see the price difference in those that were labeled as fraud verse those that were not."
   ]
  },
  {
   "cell_type": "code",
   "execution_count": 14,
   "metadata": {
    "collapsed": false
   },
   "outputs": [],
   "source": [
    "non_fraud = df[df.Class ==0]\n",
    "fraud= df[df.Class ==1]"
   ]
  },
  {
   "cell_type": "code",
   "execution_count": 15,
   "metadata": {
    "collapsed": false
   },
   "outputs": [],
   "source": [
    "non_fraud_amount = df[df.Class ==0].groupby('Amount')['Amount'].count()\n",
    "fraud_amount= df[df.Class ==1].groupby('Amount')['Amount'].count()"
   ]
  },
  {
   "cell_type": "code",
   "execution_count": 16,
   "metadata": {
    "collapsed": false
   },
   "outputs": [
    {
     "name": "stdout",
     "output_type": "stream",
     "text": [
      "Min Amount for Non-fraud transaction 0.0\n",
      "Max Amount for Non-fraud transaction 25691.16\n"
     ]
    }
   ],
   "source": [
    "print('Min Amount for Non-fraud transaction {}'.format(non_fraud_amount.index.min()))\n",
    "print('Max Amount for Non-fraud transaction {}'.format(non_fraud_amount.index.max()))"
   ]
  },
  {
   "cell_type": "code",
   "execution_count": 17,
   "metadata": {
    "collapsed": false
   },
   "outputs": [
    {
     "data": {
      "text/plain": [
       "Float64Index([25691.16, 19656.53,  18910.0, 12910.93, 11898.09, 11789.84,\n",
       "              10199.44,  10000.0,  8790.26,   8787.0,\n",
       "              ...\n",
       "                  0.09,     0.08,     0.07,     0.06,     0.05,     0.04,\n",
       "                  0.03,     0.02,     0.01,      0.0],\n",
       "             dtype='float64', name='Amount', length=32701)"
      ]
     },
     "execution_count": 17,
     "metadata": {},
     "output_type": "execute_result"
    }
   ],
   "source": [
    "non_fraud_amount.index[::-1]"
   ]
  },
  {
   "cell_type": "code",
   "execution_count": 18,
   "metadata": {
    "collapsed": false
   },
   "outputs": [
    {
     "name": "stdout",
     "output_type": "stream",
     "text": [
      "More than 10000:  7\n",
      "More than 8000:  12\n",
      "More than 6000:  32\n",
      "More than 5000:  55\n",
      "More than 4000:  116\n",
      "More than 2500:  418\n"
     ]
    }
   ],
   "source": [
    "big_values = [x for x in non_fraud_amount.index if x > 10000]\n",
    "print('More than 10000: ',len(big_values))\n",
    "big_values = [x for x in non_fraud_amount.index if x > 8000]\n",
    "print('More than 8000: ',len(big_values))\n",
    "big_values = [x for x in non_fraud_amount.index if x > 6000]\n",
    "print('More than 6000: ',len(big_values))\n",
    "big_values = [x for x in non_fraud_amount.index if x > 5000]\n",
    "print('More than 5000: ',len(big_values))\n",
    "big_values = [x for x in non_fraud_amount.index if x > 4000]\n",
    "print('More than 4000: ',len(big_values))\n",
    "big_values = [x for x in non_fraud_amount.index if x > 2500]\n",
    "print('More than 2500: ',len(big_values))"
   ]
  },
  {
   "cell_type": "markdown",
   "metadata": {},
   "source": [
    "So if we focus on non-fraud transactions for a minute we see that the minimum amount spent was 0 and the most was the highest value 25691.16. We can also see that the average price is gerenally on the lower end between 0 to 50 as noted below. The ten most frequent transactions account for more than 60,000 observations from the non_fraud dataset,which is about a quarter of the data. There are roughly 32,700 unique amount values out of roughly 290,000 observations. "
   ]
  },
  {
   "cell_type": "code",
   "execution_count": 19,
   "metadata": {
    "collapsed": false
   },
   "outputs": [
    {
     "data": {
      "text/plain": [
       "[(1.0, 13575),\n",
       " (1.98, 6044),\n",
       " (0.89000000000000001, 4872),\n",
       " (9.9900000000000002, 4746),\n",
       " (15.0, 3280),\n",
       " (0.76000000000000001, 2981),\n",
       " (10.0, 2950),\n",
       " (1.29, 2892),\n",
       " (1.79, 2622),\n",
       " (0.98999999999999999, 2304)]"
      ]
     },
     "execution_count": 19,
     "metadata": {},
     "output_type": "execute_result"
    }
   ],
   "source": [
    "# Then it might be interesting to see what is the most common\n",
    "nf_amount = Counter(non_fraud['Amount'])\n",
    "nf_amount.most_common(10)"
   ]
  },
  {
   "cell_type": "code",
   "execution_count": 20,
   "metadata": {
    "collapsed": false
   },
   "outputs": [
    {
     "data": {
      "text/plain": [
       "32701"
      ]
     },
     "execution_count": 20,
     "metadata": {},
     "output_type": "execute_result"
    }
   ],
   "source": [
    "len(nf_amount)"
   ]
  },
  {
   "cell_type": "markdown",
   "metadata": {},
   "source": [
    "Now lets look at fraud and see what we can detect. Right out we see that the transaction amount is way less that non_fraud amounts, which tells me that the criminals and theives are safe in the amounts they take. We also have to keep in mind that the amount is the total for that transaction, where each line is a new credit card transaction. That means that we do not know if the same card was hit multiple times and showing up in the data. That could be something that we could detect by the time distance in the fraud dataset."
   ]
  },
  {
   "cell_type": "code",
   "execution_count": 21,
   "metadata": {
    "collapsed": false
   },
   "outputs": [
    {
     "name": "stdout",
     "output_type": "stream",
     "text": [
      "Min Amount for Fraud transaction 0.0\n",
      "Max Amount for Fraud transaction 2125.87\n"
     ]
    }
   ],
   "source": [
    "print('Min Amount for Fraud transaction {}'.format(fraud_amount.index.min()))\n",
    "print('Max Amount for Fraud transaction {}'.format(fraud_amount.index.max()))"
   ]
  },
  {
   "cell_type": "code",
   "execution_count": 22,
   "metadata": {
    "collapsed": false
   },
   "outputs": [
    {
     "data": {
      "text/plain": [
       "Float64Index([2125.87, 1809.68, 1504.93, 1402.16, 1389.56, 1354.25,  1335.0,\n",
       "              1218.89, 1096.99,  996.27,\n",
       "              ...\n",
       "                 0.92,    0.83,    0.77,    0.76,    0.69,    0.68,    0.38,\n",
       "                  0.2,    0.01,     0.0],\n",
       "             dtype='float64', name='Amount', length=259)"
      ]
     },
     "execution_count": 22,
     "metadata": {},
     "output_type": "execute_result"
    }
   ],
   "source": [
    "fraud_amount.index[::-1]"
   ]
  },
  {
   "cell_type": "code",
   "execution_count": 23,
   "metadata": {
    "collapsed": false
   },
   "outputs": [
    {
     "data": {
      "text/plain": [
       "[(1.0, 113),\n",
       " (0.0, 27),\n",
       " (99.989999999999995, 27),\n",
       " (0.76000000000000001, 17),\n",
       " (0.77000000000000002, 10),\n",
       " (0.01, 5),\n",
       " (2.0, 4),\n",
       " (3.79, 4),\n",
       " (1.1000000000000001, 3),\n",
       " (12.31, 3)]"
      ]
     },
     "execution_count": 23,
     "metadata": {},
     "output_type": "execute_result"
    }
   ],
   "source": [
    "amount = Counter(fraud['Amount'])\n",
    "amount.most_common(10)"
   ]
  },
  {
   "cell_type": "code",
   "execution_count": 24,
   "metadata": {
    "collapsed": false
   },
   "outputs": [
    {
     "data": {
      "text/plain": [
       "259"
      ]
     },
     "execution_count": 24,
     "metadata": {},
     "output_type": "execute_result"
    }
   ],
   "source": [
    "len(amount)"
   ]
  },
  {
   "cell_type": "markdown",
   "metadata": {},
   "source": [
    "For fraud transactions it is hard to say what is considered unusual because there is not a lot of observations in the data. Here we see now that the 20 most common amount values are between 0 and 512, where the frequency dropped from a 1000 to 2 being in the 20 most common amounts. That confirms to me that fraud amounts are spuradic or individualized, which I am sure anyone could have guessed.\n",
    "\n",
    "So we have spent some time looking at Amount and Time, but still do not have really an idea of what the PCA components consist of. Something to give us a better concept of what each entails below is an interactive scatterplot matrix of the class variable and any other specified feature in the data. The plot also gives the distribution for each of the features picked where you can determine if any transformations should be applied."
   ]
  },
  {
   "cell_type": "code",
   "execution_count": 25,
   "metadata": {
    "collapsed": false,
    "scrolled": false
   },
   "outputs": [
    {
     "data": {
      "image/png": "[encoded data removed]",
      "text/plain": [
       "<matplotlib.figure.Figure at 0x1ad8bdd2668>"
      ]
     },
     "metadata": {},
     "output_type": "display_data"
    }
   ],
   "source": [
    "%matplotlib inline\n",
    "\n",
    "@interact\n",
    "def sns_scatter(Feature_x=column_name, Feature_y=column_name):\n",
    "    \n",
    "    scatter_list = [Feature_x, Feature_y]\n",
    "\n",
    "    sns.set(color_codes=True)\n",
    "    sns.pairplot(df[scatter_list])"
   ]
  },
  {
   "cell_type": "markdown",
   "metadata": {},
   "source": [
    "<a id='1'></a>\n",
    "# So what to do with imbalanced data?\n",
    "\n",
    "Well there is a thing called:\n",
    "* **Accuracy paradox**: which is the case where we get a higher accuracy percentage because it is reflecting the underlying class distribution. The dataset is highly imbalanced, the positive class (frauds) account for 0.172% of all transactions.\n",
    "    * Conventional algorithms are often biased towards the majority class because their loss functions attempt to optimize quantities such as error rate, not taking the data distribution into consideration. \n",
    "    * In some cases, minority examples may even be treated as outliers of the majority class and ignored, or the learning algorithm generates a classifier that classifies every example as the majority class.\n",
    "\n",
    "\n",
    "So now how do we deal with unbalanced data? \n",
    "\n",
    "Well there is a couple of ways from `imblearn` library that covers under_sampling and over_sampling for each class. \n",
    "\n",
    "**List of Techniques**\n",
    "1. **Collect more data**, which for this notebook it will not work.\n",
    "2. **Use a different scoring method**. Accuracy will be biased towards the majority class, and the F1 or ROC_AUC score will be a better estimator for true positives. \n",
    "    A few key terms for classification and accuracy:\n",
    "\n",
    "    __Accuracy__ = TP+TN/Total\n",
    "\n",
    "    __Precison__ = TP/(TP+FP)\n",
    "\n",
    "    __Recall__ = TP/(TP+FN)\n",
    "\n",
    "    __F1__ = (Precison * Recall) / (Precison + Recall)\n",
    "\n",
    "    __TP__ = True positive, number of cases that were positive and predicted positive\n",
    "\n",
    "    __TN__ = True negative, number of cases that were negative and predicted negative\n",
    "\n",
    "    __FP__ = False possitve, number of cases that were negative and predicted positive \n",
    "\n",
    "    __FN__= False Negative, number of cases that were positive and predicted negative \n",
    "\n",
    "    The ones that were predicted right are always a good thing, but those that predicted wrong is not. It is always a trade off for which one will affect you more FP or FN, it comes down to the scope of the project or business goal.\n",
    "\n",
    "    Using accuracy yeilds a much higher result compared to the average_precision score (area under the precision-recall curve).This is because if one of the classes has a large sample size they are going to have more weight for the numerator, which when divided by the denominator will yeild a high accuracy. Once you get to the classification report, look at the support column and you can verify the amount of imbalanced data in your sample. \n",
    "\n",
    "    The f1 score is also a valid measure of an accurate model. This is the harmonic mean of precision and recall, and will be more insensitive to imbalanced data.\n",
    "\n",
    "3. **Resample the dataset** so that the sample you use to build the model is more balanced. \n",
    "\n",
    "    **imblearn.under_sampling** deletes instances from the over-represented class. \n",
    "    * Random majority under-sampling with replacement\n",
    "    * Extraction of majority-minority Tomek links\n",
    "    * Under-sampling with Cluster Centroids\n",
    "    * NearMiss-(1 & 2 & 3) \n",
    "    * Condensend Nearest Neighbour \n",
    "    * One-Sided Selection \n",
    "    * Neighboorhood Cleaning Rule \n",
    "    * Edited Nearest Neighbours \n",
    "    * Instance Hardness Threshold\n",
    "    * Repeated Edited Nearest Neighbours \n",
    "    * AllKNN \n",
    "        \n",
    "  **imblearn.over_sampling** adds copies of instances from the under-represented class (sampling with replacement).\n",
    "    \n",
    "    * Random minority over-sampling with replacement\n",
    "    * SMOTE - Synthetic Minority Over-sampling Technique \n",
    "    * bSMOTE(1 & 2) - Borderline SMOTE of types 1 and 2\n",
    "    * SVM SMOTE - Support Vectors SMOTE \n",
    "    * ADASYN - Adaptive synthetic sampling approach for imbalanced learning \n",
    "  \n",
    "  **Over-sampling followed by under-sampling**\n",
    "    \n",
    "    * SMOTE + Tomek links \n",
    "    * SMOTE + ENN \n",
    "    * Ensemble sampling\n",
    "    * EasyEnsemble \n",
    "    * BalanceCascade\n",
    "\n",
    "4. **Try different algorithms**. For example decision trees use the decision boundary to split the data by looking at the class variable, and will allow both classes to be addressed. \n",
    "\n",
    "5. **Try penalizing the model**. There are different algorithms that are specific to penalizing class and weights. "
   ]
  },
  {
   "cell_type": "markdown",
   "metadata": {},
   "source": [
    "<a id='1.1'></a>\n",
    "# Logistic Regression with the imbalanced classes\n",
    "\n",
    "I use logistic regression in this case to show the different methods of working with imbalanced data. The first model will start with the original train and test, then we will use under_sample and over_sampling methods to see which works best."
   ]
  },
  {
   "cell_type": "code",
   "execution_count": 26,
   "metadata": {
    "collapsed": false
   },
   "outputs": [
    {
     "name": "stderr",
     "output_type": "stream",
     "text": [
      "C:\\Users\\Shannon\\Anaconda3\\lib\\site-packages\\sklearn\\cross_validation.py:44: DeprecationWarning: This module was deprecated in version 0.18 in favor of the model_selection module into which all the refactored classes and functions are moved. Also note that the interface of the new CV iterators are different from that of this module. This module will be removed in 0.20.\n",
      "  \"This module will be removed in 0.20.\", DeprecationWarning)\n"
     ]
    }
   ],
   "source": [
    "from sklearn.cross_validation import train_test_split\n",
    "from sklearn.preprocessing import minmax_scale\n",
    "from sklearn.linear_model import LogisticRegression\n",
    "from sklearn.metrics import classification_report, average_precision_score, precision_recall_fscore_support, accuracy_score\n",
    "from sklearn.metrics import roc_curve, auc, f1_score\n",
    "from collections import Counter"
   ]
  },
  {
   "cell_type": "code",
   "execution_count": 27,
   "metadata": {
    "collapsed": true
   },
   "outputs": [],
   "source": [
    "def logistic_model(X_trn, y_trn, X_tst, y_tst):\n",
    "    \"\"\"create a function for logistic regression\"\"\"\n",
    "    \n",
    "    logreg = LogisticRegression(penalty='l1')\n",
    "    logreg.fit(X_trn, y_trn)\n",
    "    y_pred = logreg.predict(X_tst)\n",
    "\n",
    "    return get_scores(y_tst, y_pred)\n",
    "\n",
    "def get_scores(y_tst, pred):\n",
    "    print('Accuracy Score: {}\\n'.format(accuracy_score(y_tst, pred)))\n",
    "    print('Average Precision Score: {}\\n'.format(average_precision_score(y_tst, pred))) \n",
    "    print('Average F1 Score: {}'.format(f1_score(y_tst, pred)))\n",
    "#     print('\\nClassification Report: \\n{}'.format(classification_report(y_tst, pred)))\n",
    "\n",
    "def model_scores(y_tst, pred):\n",
    "    print('Accuracy Score: {}\\n'.format(accuracy_score(y_tst, pred)))\n",
    "    print('Average Precision Score: {}\\n'.format(average_precision_score(y_tst, pred))) \n",
    "    print('Average F1 Score: {}'.format(f1_score(y_tst, pred)))\n",
    "    \n",
    "    cnf_matrix=confusion_matrix(y_tst, pred)\n",
    "\n",
    "    fig= plt.figure(figsize=(6,3))\n",
    "\n",
    "    sns.heatmap(cnf_matrix, cmap=\"coolwarm_r\", annot=True, linewidths=0.5)\n",
    "    plt.title(\"Confusion_matrix\")\n",
    "    plt.xlabel(\"Predicted_class\")\n",
    "    plt.ylabel(\"Real class\")\n",
    "    plt.show()\n",
    "    print(\"\\n----------Classification Report------------------------------------\")\n",
    "    print(classification_report(y_tst,pred))\n",
    "    \n",
    "def make_roc_curve(estimator, X_trn, y_trn, X_tst, y_tst):\n",
    "    # ROC_AUC score\n",
    "    y_pred_score = estimator.fit(X_trn, y_trn.values.ravel()).decision_function(X_tst.values)\n",
    "\n",
    "    fp, tp, thresholds = roc_curve(y_tst.values.ravel(), y_pred_score)\n",
    "    roc_auc = auc(fp,tp)\n",
    "\n",
    "    # Plot ROC\n",
    "    plt.title('ROC_CURVE')\n",
    "    plt.plot(fp, tp, 'b',label='AUC = %0.2f'% roc_auc)\n",
    "    plt.legend(loc='lower right')\n",
    "    plt.plot([0,1],[0,1],'r--')\n",
    "    plt.xlim([-0.1,1.0])\n",
    "    plt.ylim([-0.1,1.01])\n",
    "    plt.ylabel('True Positive Rate')\n",
    "    plt.xlabel('False Positive Rate')\n",
    "    plt.show()"
   ]
  },
  {
   "cell_type": "code",
   "execution_count": 28,
   "metadata": {
    "collapsed": true
   },
   "outputs": [],
   "source": [
    "# df2 = minmax_scale(df.iloc[:,:-1])\n",
    "# X = df2\n",
    "\n",
    "#First I scaled the data using min/max scaler that scales each feature on a range from 0 to 1, usually as an alternative to zero\n",
    "#means scaling. I had trouble trying to identify what to do in this case because of the nature of pca components that are \n",
    "#already scaled and having two features (Time and Amount) with very large distribution ranges. Seeing as the data contains \n",
    "#mostly PCA components this would be the best method. "
   ]
  },
  {
   "cell_type": "markdown",
   "metadata": {},
   "source": [
    "I split the data into test and train, and print the class imbalance for each dataset with the initial imbalance at the top."
   ]
  },
  {
   "cell_type": "code",
   "execution_count": 29,
   "metadata": {
    "collapsed": true
   },
   "outputs": [],
   "source": [
    "y = df['Class']\n",
    "X = df.iloc[:,:-1]\n",
    "\n",
    "X_train, X_test, y_train, y_test = train_test_split(X, y, test_size=0.2, random_state=1)"
   ]
  },
  {
   "cell_type": "code",
   "execution_count": 30,
   "metadata": {
    "collapsed": false
   },
   "outputs": [
    {
     "name": "stdout",
     "output_type": "stream",
     "text": [
      "Original Data Counter({0: 284315, 1: 492})\n",
      "Train Data Counter({0: 227440, 1: 405})\n",
      "Test Data Counter({0: 56875, 1: 87})\n"
     ]
    }
   ],
   "source": [
    "# one was to see the counts per class\n",
    "print('Original Data {}'.format(Counter(df['Class'])))\n",
    "print('Train Data {}'.format(Counter(y_train)))\n",
    "print('Test Data {}'.format(Counter(y_test)))"
   ]
  },
  {
   "cell_type": "code",
   "execution_count": 31,
   "metadata": {
    "collapsed": false
   },
   "outputs": [
    {
     "data": {
      "text/plain": [
       "LogisticRegression(C=1.0, class_weight=None, dual=False, fit_intercept=True,\n",
       "          intercept_scaling=1, max_iter=100, multi_class='ovr', n_jobs=1,\n",
       "          penalty='l1', random_state=None, solver='liblinear', tol=0.0001,\n",
       "          verbose=0, warm_start=False)"
      ]
     },
     "execution_count": 31,
     "metadata": {},
     "output_type": "execute_result"
    }
   ],
   "source": [
    "logreg = LogisticRegression(penalty='l1')\n",
    "logreg.fit(X_train, y_train)"
   ]
  },
  {
   "cell_type": "code",
   "execution_count": 32,
   "metadata": {
    "collapsed": false,
    "scrolled": true
   },
   "outputs": [
    {
     "name": "stdout",
     "output_type": "stream",
     "text": [
      "Accuracy Score: 0.9991397773954567\n",
      "\n",
      "Average Precision Score: 0.6899975058992746\n",
      "\n",
      "Average F1 Score: 0.6620689655172414\n"
     ]
    }
   ],
   "source": [
    "logpred = logreg.predict(X_test)\n",
    "get_scores(y_test, logpred)"
   ]
  },
  {
   "cell_type": "markdown",
   "metadata": {},
   "source": [
    "The ROC curve represents how the classifier is performing. The x-axis is the false positive rate and the y-axis is the true positive rate or recall. We want the ROC curve to be as close to the upper left hand corner as possible, which shows that we have classified all instances correctly. The area under the curve is the percentage of tradeoff between sensitivity (true positives) and specificity (1-false positives). The blue line on the graph represents point or threholds of the tradeoff a person is willing to accept, compared to the ones the computer might generate."
   ]
  },
  {
   "cell_type": "code",
   "execution_count": 33,
   "metadata": {
    "collapsed": false
   },
   "outputs": [
    {
     "data": {
      "image/png": "[encoded data removed]",
      "text/plain": [
       "<matplotlib.figure.Figure at 0x1ad8c1c3e80>"
      ]
     },
     "metadata": {},
     "output_type": "display_data"
    }
   ],
   "source": [
    "make_roc_curve(logreg, X_train, y_train, X_test, y_test)"
   ]
  },
  {
   "cell_type": "markdown",
   "metadata": {},
   "source": [
    "<a id='1.1.1'></a>\n",
    "## Under_sampling Data\n",
    "\n",
    "Under-sampling will downsample the majority class. Some people view that the disadvantage to under-sampling is that valuable data is being discarded, and is making the independent variables look like they have a higher variance between features.\n",
    "\n",
    "One article that argues for undersampling with a mathematical foundation is called *Class Imbalance* (by Wallace, Small, Bradley, and Trikalinos4). Their argument is that two classes must be distinguishable in the tail of some distribution of an explanatory variable. \n",
    "\n",
    "**Random Under Sampling**: \n",
    "\n",
    "Drops data from the majority class at random, usually until response is balanced."
   ]
  },
  {
   "cell_type": "code",
   "execution_count": 34,
   "metadata": {
    "collapsed": false
   },
   "outputs": [
    {
     "name": "stdout",
     "output_type": "stream",
     "text": [
      "Original train set was 227845 and Random Under train set was 810.\n"
     ]
    }
   ],
   "source": [
    "from imblearn.under_sampling import RandomUnderSampler\n",
    "from imblearn.pipeline import make_pipeline\n",
    "from sklearn.model_selection import cross_val_score\n",
    "\n",
    "rus = RandomUnderSampler(replacement=False, random_state = 1)\n",
    "X_train_sample, y_train_sample = rus.fit_sample(X_train, y_train)\n",
    "\n",
    "print('Original train set was {} and Random Under train set was {}.'.format(len(y_train), len(y_train_sample)))"
   ]
  },
  {
   "cell_type": "markdown",
   "metadata": {},
   "source": [
    "Now lets apply it to the Logistic Regression model and see its performance."
   ]
  },
  {
   "cell_type": "code",
   "execution_count": 35,
   "metadata": {
    "collapsed": false
   },
   "outputs": [
    {
     "name": "stdout",
     "output_type": "stream",
     "text": [
      "Accuracy Score: 0.9716126540500685\n",
      "\n",
      "Average Precision Score: 0.4654787462280714\n",
      "\n",
      "Average F1 Score: 0.08695652173913043\n"
     ]
    }
   ],
   "source": [
    "logistic_model(X_train_sample, y_train_sample, X_test, y_test)"
   ]
  },
  {
   "cell_type": "markdown",
   "metadata": {},
   "source": [
    "So the results were not too good running it through logistic regression. But that was just an example to show the steps of how to resample and apply it to the model. The next step will take what we have just done another step further and include that entire step into a pipeline. The pipeline runs the two in parallel and then fits the model on the train and test. As an additional step we will later go through and see how a gridsearch is then applied to run a cross validation itteration over the model."
   ]
  },
  {
   "cell_type": "code",
   "execution_count": 36,
   "metadata": {
    "collapsed": false
   },
   "outputs": [
    {
     "name": "stdout",
     "output_type": "stream",
     "text": [
      "Average Cross Validated F1 Score: 0.113664347258\n"
     ]
    }
   ],
   "source": [
    "random_imb_pipe = make_pipeline(RandomUnderSampler(replacement=False, random_state=1), LogisticRegression())\n",
    "scores_f1 = cross_val_score(random_imb_pipe, X_train, y_train, cv=10, scoring='f1')\n",
    "\n",
    "print('Average Cross Validated F1 Score:',np.mean(scores_f1))"
   ]
  },
  {
   "cell_type": "markdown",
   "metadata": {},
   "source": [
    "**Edited Nearest Neighbors**: \n",
    "\n",
    "Removes all instances that are misclassified nearest neighbors from the training set.\n",
    "\n",
    "In a sense it take cares of outliers or boundary issues, because removes nearest neighbors in the classified 'all' section. That means if there are a few data points that are not being classified towards a specific class, and tend to be classified as anything. Below we will do a similar logistic regression model using this function to see the results."
   ]
  },
  {
   "cell_type": "code",
   "execution_count": 37,
   "metadata": {
    "collapsed": false
   },
   "outputs": [
    {
     "name": "stdout",
     "output_type": "stream",
     "text": [
      "Original Training set & Edited Nearesr Neighbors Sample set: [227845, 227186]\n"
     ]
    }
   ],
   "source": [
    "from imblearn.under_sampling import EditedNearestNeighbours\n",
    "\n",
    "ekk = EditedNearestNeighbours(n_neighbors=5, random_state = 1)\n",
    "X_train_sample, y_train_sample = ekk.fit_sample(X_train, y_train)\n",
    "\n",
    "print('Original Training set & Edited Nearesr Neighbors Sample set:', [len(y_train), len(y_train_sample)])"
   ]
  },
  {
   "cell_type": "markdown",
   "metadata": {},
   "source": [
    "Unlike the random sampling, this method barely shrunk the data. If you noticed the parameters that I have been using are the default parameters, which can be adjusted. Lets try the same model again with an increased n_neighbors at 10."
   ]
  },
  {
   "cell_type": "code",
   "execution_count": 38,
   "metadata": {
    "collapsed": false
   },
   "outputs": [
    {
     "name": "stdout",
     "output_type": "stream",
     "text": [
      "Original Training set & Edited Nearesr Neighbors Sample set: [227845, 226237]\n"
     ]
    }
   ],
   "source": [
    "from imblearn.under_sampling import EditedNearestNeighbours\n",
    "\n",
    "ekk = EditedNearestNeighbours(n_neighbors=10, random_state = 1)\n",
    "X_train_sample, y_train_sample = ekk.fit_sample(X_train, y_train)\n",
    "\n",
    "print('Original Training set & Edited Nearesr Neighbors Sample set:', [len(y_train), len(y_train_sample)])"
   ]
  },
  {
   "cell_type": "markdown",
   "metadata": {},
   "source": [
    "Even with ten we are still only 1000 parameters off. Lets see what the results show then adjust the parameters one more time."
   ]
  },
  {
   "cell_type": "code",
   "execution_count": 39,
   "metadata": {
    "collapsed": false
   },
   "outputs": [
    {
     "name": "stdout",
     "output_type": "stream",
     "text": [
      "Accuracy Score: 0.9991397773954567\n",
      "\n",
      "Average Precision Score: 0.6899975058992746\n",
      "\n",
      "Average F1 Score: 0.6620689655172414\n"
     ]
    }
   ],
   "source": [
    "logistic_model(X_train_sample, y_train_sample, X_test, y_test)"
   ]
  },
  {
   "cell_type": "code",
   "execution_count": 40,
   "metadata": {
    "collapsed": false
   },
   "outputs": [
    {
     "name": "stdout",
     "output_type": "stream",
     "text": [
      "Average Cross Validated F1 Score: 0.681502671806\n"
     ]
    }
   ],
   "source": [
    "ekk_imb_pipe = make_pipeline(EditedNearestNeighbours(n_neighbors=15, random_state=1), LogisticRegression())\n",
    "scores_f1 = cross_val_score(ekk_imb_pipe, X_train, y_train, cv=10, scoring='f1')\n",
    "\n",
    "print('Average Cross Validated F1 Score:',np.mean(scores_f1))"
   ]
  },
  {
   "cell_type": "markdown",
   "metadata": {},
   "source": [
    "Well the edited nearest neighbor with 15 is performing a lot better, even if the class is still very imbalanced. \n",
    "\n",
    "Another one similar to edited nearest neighbors is condensed nearest neighbors.\n",
    "\n",
    "**Condensed Nearest Neighbors**:\n",
    "\n",
    "Opposite of edited nearest neighbors it will itteratively add points to data misclassified by K-nearest neighbors. Generally will remove a lot of points from majority class. "
   ]
  },
  {
   "cell_type": "code",
   "execution_count": 41,
   "metadata": {
    "collapsed": false
   },
   "outputs": [
    {
     "name": "stdout",
     "output_type": "stream",
     "text": [
      "Original Training set & Condensed Nearest Neighbor Sample set: [227845, 1383]\n"
     ]
    }
   ],
   "source": [
    "from imblearn.under_sampling import CondensedNearestNeighbour\n",
    "\n",
    "ckk = CondensedNearestNeighbour(n_neighbors=5, random_state = 1)\n",
    "X_train_sample, y_train_sample = ckk.fit_sample(X_train, y_train)\n",
    "\n",
    "print('Original Training set & Condensed Nearest Neighbor Sample set:', [len(y_train), len(y_train_sample)])"
   ]
  },
  {
   "cell_type": "code",
   "execution_count": 42,
   "metadata": {
    "collapsed": false
   },
   "outputs": [
    {
     "name": "stdout",
     "output_type": "stream",
     "text": [
      "Accuracy Score: 0.9873775499455778\n",
      "\n",
      "Average Precision Score: 0.46657828592367934\n",
      "\n",
      "Average F1 Score: 0.16878612716763006\n"
     ]
    }
   ],
   "source": [
    "logistic_model(X_train_sample, y_train_sample, X_test, y_test)"
   ]
  },
  {
   "cell_type": "code",
   "execution_count": 43,
   "metadata": {
    "collapsed": false
   },
   "outputs": [],
   "source": [
    "# ckk_imb_pipe = make_pipeline(CondensedNearestNeighbour(random_state=1, n_neighbors=3), LogisticRegression())\n",
    "# scores_f1 = cross_val_score(ckk_imb_pipe, X_train, y_train, cv=10, scoring='f1')\n",
    "\n",
    "# print('Average Cross Validated F1 Score:',np.mean(scores_f1))"
   ]
  },
  {
   "cell_type": "markdown",
   "metadata": {},
   "source": [
    "<a id='1.1.2'></a>\n",
    "### Over_sampling Data\n",
    "\n",
    "Over-sampling will randomly replicate minority class values to increase the sample size. Since it is replicating instances, we have to keep in mind that variables will now appear to have lower variance. However, because we are replicating instances it also means we are replicating the number of errors. So when a classifier makes a false negative error, the new sampled dataset will not make new errors for that replicated point.\n",
    "\n",
    "**Random Over_sampling**: \n",
    "\n",
    "This method is similar to the way random under_sampling works, however in this case it duplicates instances in the minority class at random."
   ]
  },
  {
   "cell_type": "code",
   "execution_count": 44,
   "metadata": {
    "collapsed": false
   },
   "outputs": [
    {
     "name": "stdout",
     "output_type": "stream",
     "text": [
      "Original Training set & Random Over Sample set: [227845, 454880]\n"
     ]
    }
   ],
   "source": [
    "from imblearn.over_sampling import RandomOverSampler\n",
    "\n",
    "ros = RandomOverSampler(random_state = 1)\n",
    "X_train_sample, y_train_sample = ros.fit_sample(X_train, y_train)\n",
    "\n",
    "print('Original Training set & Random Over Sample set:', [len(y_train), len(y_train_sample)])"
   ]
  },
  {
   "cell_type": "code",
   "execution_count": 45,
   "metadata": {
    "collapsed": false
   },
   "outputs": [
    {
     "name": "stdout",
     "output_type": "stream",
     "text": [
      "Accuracy Score: 0.9816719918542186\n",
      "\n",
      "Average Precision Score: 0.47726997879550875\n",
      "\n",
      "Average F1 Score: 0.1285475792988314\n"
     ]
    }
   ],
   "source": [
    "logistic_model(X_train_sample, y_train_sample, X_test, y_test)"
   ]
  },
  {
   "cell_type": "code",
   "execution_count": 46,
   "metadata": {
    "collapsed": false
   },
   "outputs": [
    {
     "name": "stdout",
     "output_type": "stream",
     "text": [
      "Average Cross Validated F1 Score: 0.114753400472\n"
     ]
    }
   ],
   "source": [
    "ros_pipe = make_pipeline(RandomOverSampler(random_state=1), LogisticRegression())\n",
    "scores_f1 = cross_val_score(ros_pipe, X_train, y_train, cv=10, scoring='f1')\n",
    "\n",
    "print('Average Cross Validated F1 Score:',np.mean(scores_f1))"
   ]
  },
  {
   "cell_type": "markdown",
   "metadata": {},
   "source": [
    "**SMOTE** (Synthetic Minority Oversampling TEchnique):\n",
    "\n",
    "This techniques creates new data points from the minority class by interpolating between existing ones. Only used for continuous data.\n",
    "1. It ignores the majority class\n",
    "2. Then for every minority instance it selects K-nearest neighbors\n",
    "3. Then creates new data points from the first instance to each of its k-nearest neighbors"
   ]
  },
  {
   "cell_type": "code",
   "execution_count": 47,
   "metadata": {
    "collapsed": false
   },
   "outputs": [
    {
     "name": "stdout",
     "output_type": "stream",
     "text": [
      "Resampled dataset shape Counter({0: 227440, 1: 227440})\n",
      "(454880,) (454880, 30)\n"
     ]
    }
   ],
   "source": [
    "from imblearn.over_sampling import SMOTE\n",
    "\n",
    "sm = SMOTE()\n",
    "X_sm, y_sm = sm.fit_sample(X_train, y_train)\n",
    "\n",
    "print('Resampled dataset shape {}'.format(Counter(y_sm)))\n",
    "print(y_sm.shape, X_sm.shape)"
   ]
  },
  {
   "cell_type": "code",
   "execution_count": 48,
   "metadata": {
    "collapsed": false
   },
   "outputs": [
    {
     "name": "stdout",
     "output_type": "stream",
     "text": [
      "Average Cross Validated F1 Score: 0.189939450235\n"
     ]
    }
   ],
   "source": [
    "sm_pipe = make_pipeline(SMOTE(), LogisticRegression())\n",
    "scores_f1 = cross_val_score(sm_pipe, X_train, y_train, cv=10, scoring='f1')\n",
    "\n",
    "print('Average Cross Validated F1 Score:',np.mean(scores_f1))"
   ]
  },
  {
   "cell_type": "markdown",
   "metadata": {},
   "source": [
    "<a id='2'></a>\n",
    "# Random Forest Classifier\n",
    "\n",
    "Random Forest is an ensemble method that will do both classification and regression. Random forest takes a subsample of the data set using a technique called bootstrapping. What bootstrap does is it keeps the same length of the data but replaces on observation with a random observation from that sample. With this technique you may get multiples of the same observation, but the idea is that you are covering the entire population. From this sample it then generates a set of decisions based on a random sample of features. It decides the threshold of the feature, and makes a split. Each of the trees MSE value is averaged together to output the accuracy.\n",
    "\n",
    "Random Forest is one of many that we will talk about that is a part of the CART (Classification and Regression Trees). The tree series stems off the basic idea of a decision tree with rules that split the data into different nodes.\n",
    "\n",
    "I am going to take two techniques one from under sampling and one from over sampling to see how the model runs."
   ]
  },
  {
   "cell_type": "code",
   "execution_count": null,
   "metadata": {
    "collapsed": true
   },
   "outputs": [],
   "source": [
    "from sklearn.ensemble import RandomForestClassifier\n",
    "from sklearn.model_selection import GridSearchCV\n",
    "from sklearn.metrics import confusion_matrix"
   ]
  },
  {
   "cell_type": "markdown",
   "metadata": {},
   "source": [
    "### RF without undersample/oversample\n",
    "\n",
    "As general model for comparison I want to show how well random forest performs without oversampling and undersampling."
   ]
  },
  {
   "cell_type": "code",
   "execution_count": null,
   "metadata": {
    "collapsed": true
   },
   "outputs": [],
   "source": [
    "rf_params = {\n",
    "    'n_estimators' : [100, 150],\n",
    "    'max_depth': [5, 7],\n",
    "    'min_samples_split' : [2, 3],\n",
    "}"
   ]
  },
  {
   "cell_type": "code",
   "execution_count": null,
   "metadata": {
    "collapsed": false
   },
   "outputs": [],
   "source": [
    "rf = RandomForestClassifier(n_jobs=-1)\n",
    "rf_grid = GridSearchCV(rf, param_grid=rf_params)\n",
    "rf_model = rf_grid.fit(X_train, y_train)\n",
    "\n",
    "rf_pred = rf_model.predict(X_test)\n",
    "\n",
    "model_scores(y_test, rf_pred)"
   ]
  },
  {
   "cell_type": "markdown",
   "metadata": {},
   "source": [
    "### RF with CondensedNearestNeighbour - undersampling"
   ]
  },
  {
   "cell_type": "code",
   "execution_count": null,
   "metadata": {
    "collapsed": true
   },
   "outputs": [],
   "source": [
    "rf_params = {\n",
    "    'CondensedNearestNeighbour__n_neighbor': np.arange(3,10,1),\n",
    "    'randomforestclassifier__n_estimators' : np.arange(50, 150, 10),\n",
    "    'randomforestclassifier__max_depth': np.arange(5, 7, 1),\n",
    "    'randomforestclassifier__min_samples_split' : [2, 3],\n",
    "}"
   ]
  },
  {
   "cell_type": "code",
   "execution_count": null,
   "metadata": {
    "collapsed": false
   },
   "outputs": [],
   "source": [
    "ekk_pipe = make_pipeline(CondensedNearestNeighbour(n_neighbors=5, random_state=1), RandomForestClassifier(n_jobs=-1))\n",
    "ekk_grid = GridSearchCV(ekk_pipe, param_grid=rf_params)\n",
    "ekk_model = ekk_grid.fit(X_train, y_train)\n",
    "\n",
    "ekk_pred = ekk_model.predict(X_test)\n",
    "\n",
    "model_scores(y_test, ekk_pred)"
   ]
  },
  {
   "cell_type": "markdown",
   "metadata": {},
   "source": [
    "### RF with SMOTE - oversampling\n",
    "\n",
    "Please be aware that it takes a while to run. "
   ]
  },
  {
   "cell_type": "code",
   "execution_count": null,
   "metadata": {
    "collapsed": true
   },
   "outputs": [],
   "source": [
    "rf_params = {\n",
    "    'smote__k_neighbors': [3, 5, 7],\n",
    "    'smote__out_step': [0.1, 0.5],\n",
    "    'smote__kind': ['regular', 'svm'],\n",
    "    'randomforestclassifier__n_estimators' : np.arange(100, 150, 10),\n",
    "    'randomforestclassifier__max_depth': np.arange(5, 10, 1),\n",
    "    'randomforestclassifier__min_samples_split' : [2, 3],\n",
    "}"
   ]
  },
  {
   "cell_type": "code",
   "execution_count": null,
   "metadata": {
    "collapsed": true
   },
   "outputs": [],
   "source": [
    "sm_pipe = make_pipeline(SMOTE(random_state=1), RandomForestClassifier())\n",
    "sm_grid = GridSearchCV(sm_pipe, param_grid=rf_params)\n",
    "sm_model = sm_grid.fit(X_train, y_train)\n",
    "\n",
    "sm_pred = sm_model.predict(X_test)\n",
    "\n",
    "model_scores(y_test, sm_pred)"
   ]
  },
  {
   "cell_type": "markdown",
   "metadata": {
    "collapsed": true
   },
   "source": [
    "<a id='3'></a>\n",
    "# Support Vector Classifier\n",
    "\n",
    "Is a form of support vectore machines, which are very effective in high dimensional spaces and is memory effecient by using a subset of training points in the decision function. The classifier uses the same type of kernel function. \n",
    "\n",
    "If it is radial basis function then it uses an activation function to project n-dimensions of feature space. It then tries to optimize the boundaries on either side of the decision line with an expected error value. It can also include gradient descent where it attempts to fit coefficient weights by the finding the optimum local minimum. \n",
    "\n",
    "The linear function does not transorm the data into n-dimesions but it attempts to create a linear line through the data. If there are multiple classes then it becomes a one-verse-all method. \n",
    "\n",
    "**Parameters:**\n",
    "\n",
    "**C**: is the penalty parameter, which trades off misclassification. A low C makes the decision surface smooth, white high C aims at classifying all training examples correctly. This allows the model to select more or less samples as support vectors.\n",
    "\n",
    "**kernel**: is the type of kernel function or algorthim that would be applied to svc. For instance if it is linear there will be no activation function applied, which in other words it would not bring the feature space to n-dimension transformation. \n",
    "\n",
    "**gamma**: shows how far the influence of the training data point reaches. Low values mean far and high values mean close.\n",
    "\n",
    "**step_out**: step size when extrapolating, used with kind:svm. Extrapolate means to estimate something by assuming that the current method will remain applicable for further instances outside of data scope. \n",
    "\n",
    "**kind**: the type of SMOTE algorithm, which would either be regular or svc. Also have 'borderline1' and 'borderline2' that would be applicable."
   ]
  },
  {
   "cell_type": "code",
   "execution_count": null,
   "metadata": {
    "collapsed": false
   },
   "outputs": [],
   "source": [
    "from sklearn.svm import SVC"
   ]
  },
  {
   "cell_type": "markdown",
   "metadata": {},
   "source": [
    "### SVC without undersampling/ oversampling"
   ]
  },
  {
   "cell_type": "code",
   "execution_count": null,
   "metadata": {
    "collapsed": true
   },
   "outputs": [],
   "source": [
    "svc_params = {\n",
    "    'C': np.arange(0.1, 5, 0.5),\n",
    "    'kernel': ['rbf', 'linear'],\n",
    "    'gamma': np.arange(0.1, 5, 0.5),\n",
    "    'max_iter':[1000]\n",
    "}"
   ]
  },
  {
   "cell_type": "code",
   "execution_count": null,
   "metadata": {
    "collapsed": false
   },
   "outputs": [],
   "source": [
    "svc_clf = SVC()\n",
    "svc_grid = GridSearchCV(svc_clf, param_grid=svc_params)\n",
    "svc_model = svc_grid.fit(X_train, y_train)\n",
    "\n",
    "svc_pred = svc_model.predict(X_test)\n",
    "\n",
    "model_scores(y_test, svc_pred)"
   ]
  },
  {
   "cell_type": "markdown",
   "metadata": {},
   "source": [
    "### SVC with CondensedNearestNeighbour - undersampling"
   ]
  },
  {
   "cell_type": "code",
   "execution_count": null,
   "metadata": {
    "collapsed": true
   },
   "outputs": [],
   "source": [
    "svc_params = {\n",
    "    'svc__C': [0.5, 1, 1.5, 2],\n",
    "    'svc__kernel': ['rbf', 'linear'],\n",
    "    'svc__gamma': [1, 3, 5],\n",
    "    'svc__max_iter':[1000]\n",
    "}"
   ]
  },
  {
   "cell_type": "code",
   "execution_count": null,
   "metadata": {
    "collapsed": true
   },
   "outputs": [],
   "source": [
    "ekk_pipe2 = make_pipeline(CondensedNearestNeighbour(n_neighbors=5, random_state=1), SVC(n_jobs=-1))\n",
    "ekk_grid2 = GridSearchCV(ekk_pipe2, param_grid=svc_params)\n",
    "ekk_model2 = ekk_grid2.fit(X_train, y_train)\n",
    "\n",
    "ekk_pred2 = eek_model2.predict(X_test)\n",
    "\n",
    "model_scores(y_test, ekk_pred2)"
   ]
  },
  {
   "cell_type": "markdown",
   "metadata": {},
   "source": [
    "### SVC with SMOTE - oversampling"
   ]
  },
  {
   "cell_type": "code",
   "execution_count": null,
   "metadata": {
    "collapsed": true
   },
   "outputs": [],
   "source": [
    "svc_params = {\n",
    "    'smote__k_neighbors': [3, 5, 7],\n",
    "    'smote__out_step': [0.1, 0.5],\n",
    "    'smote__kind': ['regular', 'svm'],\n",
    "    'svc__C': [0.5, 1, 1.5, 2],\n",
    "    'svc__kernel': ['rbf', 'linear'],\n",
    "    'svc__gamma': [1, 3, 5],\n",
    "    'svc__max_iter':[1000]\n",
    "}"
   ]
  },
  {
   "cell_type": "code",
   "execution_count": null,
   "metadata": {
    "collapsed": true
   },
   "outputs": [],
   "source": [
    "sm_pipe2 = make_pipeline(SMOTE(random_state=1), SVC())\n",
    "sm_grid2 = GridSearchCV(sm_pipe2, param_grid=svc_params)\n",
    "sm_model2 = sm_grid2.fit(X_train, y_train)\n",
    "\n",
    "sm_pred2 = sm_model2.predict(X_test)\n",
    "\n",
    "model_scores(y_test, sm_pred2)"
   ]
  },
  {
   "cell_type": "markdown",
   "metadata": {},
   "source": [
    "<a id='4'></a>\n",
    "# XGBoost\n",
    "\n",
    "'Extreme Gradient Boosting' is another ensemble method that can handle both regression and classification. XGBoost is known for its speed and model performance. XGBoost is very similar to adaboost in the way that new models are added to the original to correct errors made by the original. What gradient boosting does is it creates new models that predict the errors of the previous model and add them together for the final prediction. It uses gradient descent algorithm to minimize the loss when adding the new models. \n",
    "\n",
    "Gradient Descent is an itterative optimization algorithm that uses learning rate to find the optimal local minimum."
   ]
  },
  {
   "cell_type": "code",
   "execution_count": null,
   "metadata": {
    "collapsed": true
   },
   "outputs": [],
   "source": [
    "from xgboost import XGBClassifier"
   ]
  },
  {
   "cell_type": "code",
   "execution_count": null,
   "metadata": {
    "collapsed": true
   },
   "outputs": [],
   "source": [
    "xg_params = {\n",
    "    'colsample_bytree': [0.2],\n",
    "    'gamma':[0.01],\n",
    "    'learning_rate':[0.001, 0.01],\n",
    "    'max_depth':np.arange(3,7,1),\n",
    "    'n_estimators':[4000, 5000],                                                                  \n",
    "    'reg_alpha':[0.5,0.9],\n",
    "    'reg_lambda':[0.3, 0.4, 0.5],\n",
    "    'subsample': [0.2]\n",
    "}"
   ]
  },
  {
   "cell_type": "code",
   "execution_count": null,
   "metadata": {
    "collapsed": true
   },
   "outputs": [],
   "source": [
    "xgb_clf = XGBClassifier()\n",
    "xgb_grid = GridSearchCV(xgb_clf, param_grid=xg_params)\n",
    "xgb_model = xgb_grid.fit(X_train, y_train)\n",
    "\n",
    "xgb_pred = xgb_model.predict(X_test)\n",
    "\n",
    "model_scores(y_test, xgb_pred)"
   ]
  },
  {
   "cell_type": "markdown",
   "metadata": {},
   "source": [
    "### XGBoost with CondensedNearestNeighbour - undersampling"
   ]
  },
  {
   "cell_type": "code",
   "execution_count": null,
   "metadata": {
    "collapsed": true
   },
   "outputs": [],
   "source": [
    "xg_params = {\n",
    "    'xgbclassifier__colsample_bytree': [0.2],\n",
    "    'xgbclassifier__gamma':[0.01],\n",
    "    'xgbclassifier__learning_rate':[0.001, 0.01],\n",
    "    'xgbclassifier__max_depth':np.arange(3,7,1),\n",
    "    'xgbclassifier__n_estimators':[4000, 5000],                                                                  \n",
    "    'xgbclassifier__reg_alpha':[0.5,0.9],\n",
    "    'xgbclassifier__reg_lambda':[0.3, 0.4, 0.5],\n",
    "    'xgbclassifier__subsample': [0.2]\n",
    "}"
   ]
  },
  {
   "cell_type": "code",
   "execution_count": null,
   "metadata": {
    "collapsed": true
   },
   "outputs": [],
   "source": [
    "ekk_pipe = make_pipeline(CondensedNearestNeighbour(n_neighbors=5, random_state=1), XGBClassifier())\n",
    "ekk_grid = GridSearchCV(ekk_pipe, param_grid=xg_params)\n",
    "ekk_model = ekk_grid.fit(X_train, y_train)\n",
    "\n",
    "ekk_pred = eek_model.predict(X_test)\n",
    "\n",
    "model_scores(y_test, ekk_pred3)"
   ]
  },
  {
   "cell_type": "markdown",
   "metadata": {},
   "source": [
    "### XGBoost with  SMOTE- oversampling"
   ]
  },
  {
   "cell_type": "code",
   "execution_count": null,
   "metadata": {
    "collapsed": true
   },
   "outputs": [],
   "source": [
    "xg_params = {\n",
    "    'smote__k_neighbors': [3, 5, 7],\n",
    "    'smote__out_step': [0.1, 0.5],\n",
    "    'smote__kind': ['regular', 'svm'],\n",
    "    'xgbclassifier__colsample_bytree': [0.2],\n",
    "    'xgbclassifier__gamma':[0.01],\n",
    "    'xgbclassifier__learning_rate':[0.001, 0.01],\n",
    "    'xgbclassifier__max_depth':np.arange(3,7,1),\n",
    "    'xgbclassifier__n_estimators':[4000, 5000],                                                                  \n",
    "    'xgbclassifier__reg_alpha':[0.5,0.9],\n",
    "    'xgbclassifier__reg_lambda':[0.3, 0.4, 0.5],\n",
    "    'xgbclassifier__subsample': [0.2]\n",
    "}"
   ]
  },
  {
   "cell_type": "code",
   "execution_count": null,
   "metadata": {
    "collapsed": true
   },
   "outputs": [],
   "source": [
    "sm_pipe3 = make_pipeline(SMOTE(random_state=1), XGBClassifier())\n",
    "sm_grid3 = GridSearchCV(sm_pipe3, param_grid=xg_params)\n",
    "sm_model3 = sm_grid3.fit(X_train, y_train)\n",
    "\n",
    "sm_pred3 = sm_model3.predict(X_test)\n",
    "\n",
    "model_scores(y_test, sm_pred3)"
   ]
  },
  {
   "cell_type": "markdown",
   "metadata": {},
   "source": [
    "# Summary\n",
    "\n",
    "In the end I found that there is a lot that can be done with imbalanced data in order to get equivalent sample sizes to please the model. I always find it interesting to look at the data from the beginning, and try to see if we can detect any patterns prior to the modeling. \n",
    "\n",
    "If time were on my side one or two of the additional things is that I would have got feature importance for each of the models. I also would have used that to look back at the model and try to piece how some of the things work together for better explanatory power. "
   ]
  },
  {
   "cell_type": "code",
   "execution_count": null,
   "metadata": {
    "collapsed": true
   },
   "outputs": [],
   "source": []
  }
 ],
 "metadata": {
  "anaconda-cloud": {},
  "kernelspec": {
   "display_name": "Python [conda root]",
   "language": "python",
   "name": "conda-root-py"
  },
  "language_info": {
   "codemirror_mode": {
    "name": "ipython",
    "version": 3
   },
   "file_extension": ".py",
   "mimetype": "text/x-python",
   "name": "python",
   "nbconvert_exporter": "python",
   "pygments_lexer": "ipython3",
   "version": "3.5.2"
  },
  "widgets": {
   "state": {
    "6678932194ae419e924e62e42278f7e0": {
     "views": [
      {
       "cell_index": 35
      }
     ]
    },
    "ca037cb860df44e49b29d4682be07547": {
     "views": [
      {
       "cell_index": 10
      }
     ]
    }
   },
   "version": "1.2.0"
  }
 },
 "nbformat": 4,
 "nbformat_minor": 1
}
